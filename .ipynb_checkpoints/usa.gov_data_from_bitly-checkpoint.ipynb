{
 "metadata": {
  "name": "",
  "signature": "sha256:8f473241ee2fbe4b83cb27342bc1941e064e5e9c3606f0a38d888df88ab84892"
 },
 "nbformat": 3,
 "nbformat_minor": 0,
 "worksheets": []
}