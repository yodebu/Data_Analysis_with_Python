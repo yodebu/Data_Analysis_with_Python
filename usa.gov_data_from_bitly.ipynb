{
 "metadata": {
  "name": "",
  "signature": "sha256:9bb21692e744e4384c33fe618de961cf67948d74e8713e13a1b03584c8d949a7"
 },
 "nbformat": 3,
 "nbformat_minor": 0,
 "worksheets": [
  {
   "cells": [
    {
     "cell_type": "heading",
     "level": 1,
     "metadata": {},
     "source": [
      "1.usa.gov data from bit.ly"
     ]
    },
    {
     "cell_type": "markdown",
     "metadata": {},
     "source": [
      "In 2011, URL shortening service bit.ly partnered with the United States government website usa.gov to provide a feed of anonymous data gathered from users who shorten links ending with .gov or .mil. As of this writing, in addition to providing a live feed, hourly snapshots are available as downloadable text files."
     ]
    },
    {
     "cell_type": "code",
     "collapsed": false,
     "input": [
      "import json\n",
      "#import urllib\n",
      "#linkx = urllib.urlopen('http://developer.usa.gov/1usagov')\n",
      "\n",
      "fp = open('bitly.txt', 'r')\n",
      "bitlyx = fp.readlines()\n",
      "\n",
      "recordx = []\n",
      "for line in bitlyx:\n",
      "    recordx.append(json.loads(line))\n",
      "    \n",
      "recordx[0]"
     ],
     "language": "python",
     "metadata": {},
     "outputs": [
      {
       "metadata": {},
       "output_type": "pyout",
       "prompt_number": 10,
       "text": [
        "{u'_id': u'bb482fd2-30c9-8b40-b207-d0d978b0a6eb',\n",
        " u'a': u'Mozilla/5.0 (Linux; U; Android 4.0.4; en-us; XT886 Build/6.7.3-179_YIC-10) AppleWebKit/534.30 (KHTML, like Gecko) Version/4.0 Mobile Safari/534.30 [FB_IAB/FB4A;FBAV/26.0.0.22.16;]',\n",
        " u'al': u'en-US',\n",
        " u'c': u'US',\n",
        " u'cy': u'Clayton',\n",
        " u'g': u'1v77ofT',\n",
        " u'gr': u'NC',\n",
        " u'h': u'16B6RHA',\n",
        " u'hc': 1423272103,\n",
        " u'hh': u'buff.ly',\n",
        " u'l': u'bufferapp',\n",
        " u'll': [35.6507, -78.4564],\n",
        " u'mc': 560,\n",
        " u'r': u'http://m.facebook.com/',\n",
        " u't': 1423574030,\n",
        " u'tz': u'America/New_York',\n",
        " u'u': u'https://petitions.whitehouse.gov/petition/petition-grant-unconditional-executive-clemency-and-repatriation-dr-malachi-z-york/bcKkHtJb?utm_content=buffer5e038&utm_medium=social&utm_source=facebook.com&utm_campaign=buffer'}"
       ]
      }
     ],
     "prompt_number": 10
    },
    {
     "cell_type": "code",
     "collapsed": false,
     "input": [],
     "language": "python",
     "metadata": {},
     "outputs": []
    },
    {
     "cell_type": "code",
     "collapsed": false,
     "input": [],
     "language": "python",
     "metadata": {},
     "outputs": []
    }
   ],
   "metadata": {}
  }
 ]
}