{
 "metadata": {
  "name": "",
  "signature": "sha256:9a9214bd72cc06c18c92acd197c8a207941b9bab07b09d93de95f8cbed7fcb04"
 },
 "nbformat": 3,
 "nbformat_minor": 0,
 "worksheets": [
  {
   "cells": [
    {
     "cell_type": "heading",
     "level": 1,
     "metadata": {},
     "source": [
      "1.usa.gov data from bit.ly"
     ]
    },
    {
     "cell_type": "markdown",
     "metadata": {},
     "source": [
      "In 2011, URL shortening service bit.ly partnered with the United States government website usa.gov to provide a feed of anonymous data gathered from users who shorten links ending with .gov or .mil. As of this writing, in addition to providing a live feed, hourly snapshots are available as downloadable text files."
     ]
    },
    {
     "cell_type": "code",
     "collapsed": false,
     "input": [
      "%matplotlib inline\n",
      "import numpy as np\n",
      "import simplejson\n",
      "import urllib\n",
      "\n",
      "#url_linkx = urllib.urlopen('http://developer.usa.gov/1usagov')\n",
      "\n",
      "# Open the data file for reading\n",
      "try:\n",
      "    with open('bitly.txt', 'r') as fp:\n",
      "        bitlyx = fp.readlines()\n",
      "except Exception as ecpt:\n",
      "    print(\"Error! %s\" % ecpt)\n",
      "    \n",
      "# Convert to JSON format\n",
      "recordx = []\n",
      "for line in bitlyx:\n",
      "    recordx.append(simplejson.loads(line))\n",
      "\n",
      "# extract first record and inspect\n",
      "recordx[0]"
     ],
     "language": "python",
     "metadata": {},
     "outputs": [
      {
       "metadata": {},
       "output_type": "pyout",
       "prompt_number": 191,
       "text": [
        "{'_id': '018a3719-e78d-5b26-76cf-cd5bf920fe08',\n",
        " 'a': 'Mozilla/4.0 (compatible; MSIE 8.0; Windows NT 6.1; WOW64; Trident/4.0; SLCC2; .NET CLR 2.0.50727; .NET CLR 3.5.30729; .NET CLR 3.0.30729; .NET4.0C; MS-RTC LM 8; .NET4.0E)',\n",
        " 'c': 'US',\n",
        " 'cy': 'Silver Spring',\n",
        " 'g': '1ekR26Q',\n",
        " 'gr': 'MD',\n",
        " 'h': '1vuPrrU',\n",
        " 'hc': 1423164498,\n",
        " 'hh': '1.usa.gov',\n",
        " 'l': 'cheryltspeaks',\n",
        " 'll': [38.9907, -77.0261],\n",
        " 'mc': 511,\n",
        " 'r': 'direct',\n",
        " 't': 1423591299,\n",
        " 'tz': 'America/New_York',\n",
        " 'u': 'http://effectivehealthcare.ahrq.gov/ehc/products/193/894/smbp_cons_fin_to_post.pdf'}"
       ]
      }
     ],
     "prompt_number": 191
    },
    {
     "cell_type": "heading",
     "level": 4,
     "metadata": {},
     "source": [
      "Extract the URLs from the records and print them out"
     ]
    },
    {
     "cell_type": "code",
     "collapsed": false,
     "input": [
      "url_set = []\n",
      "\n",
      "for key in recordx:\n",
      "    url_set.append(key['u'])\n",
      "    print key['u']"
     ],
     "language": "python",
     "metadata": {},
     "outputs": [
      {
       "output_type": "stream",
       "stream": "stdout",
       "text": [
        "http://effectivehealthcare.ahrq.gov/ehc/products/193/894/smbp_cons_fin_to_post.pdf\n",
        "http://effectivehealthcare.ahrq.gov/ehc/products/193/894/smbp_cons_fin_to_post.pdf\n",
        "http://effectivehealthcare.ahrq.gov/ehc/products/193/894/smbp_cons_fin_to_post.pdf\n",
        "http://www.jpl.nasa.gov/news/news.php?feature=4479\n",
        "https://www.healthcare.gov/get-coverage2/?utm_medium=sms&utm_source=govdelivery&utm_campaign=0210noaccnoappsms&utm_content=02_10_15\n",
        "https://www.healthcare.gov/marketplace/global/en_US/registration?utm_medium=sms&utm_source=govdelivery&utm_campaign=0210applysms&utm_content=02_10_15\n",
        "http://www.hhs.gov/blog/2015/02/10/aca-closing-gap-when-it-comes-health-care.html?utm_campaign=021015_hhs_blog_bhm&utm_medium=email&utm_source=hhs_blog_updates&utm_content=021015_hhs_blog_bhm_readmorelink\n",
        "http://www.fas.usda.gov/organic-trade-hs-codes\n",
        "https://www.healthcare.gov/get-coverage2/?utm_medium=sms&utm_source=govdelivery&utm_campaign=0210noaccnoappsms&utm_content=02_10_15\n",
        "https://www.healthcare.gov/get-coverage2/?utm_medium=sms&utm_source=govdelivery&utm_campaign=0210noaccnoappsms&utm_content=02_10_15\n",
        "http://www.nasa.gov/jpl/mars-rover-nearing-marathon-achievement/\n",
        "http://www.jber.af.mil/news/story.asp?id=123438360\n",
        "http://www.nasa.gov/exploration/systems/sls/sls-pdr.html\n",
        "http://www.cuidadodesalud.gov/es/subscribe/?utm_source=impremedia&utm_medium=display&utm_campaign=deadline&utm_content=urgentdeadline_a_320x50_012915\n",
        "http://www.nasa.gov/jpl/mars-rover-nearing-marathon-achievement/\n",
        "http://www.hhs.gov/blog/2015/02/10/aca-closing-gap-when-it-comes-health-care.html?utm_campaign=021015_hhs_blog_bhm&utm_medium=email&utm_source=hhs_blog_updates&utm_content=021015_hhs_blog_bhm_readmorelink\n",
        "https://www.healthcare.gov/subscribe/?utm_medium=paid_social&utm_source=facebook&utm_campaign=20104_2015_womens_campaign&utm_content=in_20stream0209\n",
        "http://www.valu.va.gov/Home/CEDB\n",
        "https://www.healthcare.gov/get-coverage2/?utm_medium=sms&utm_source=govdelivery&utm_campaign=0210noaccnoappsms&utm_content=02_10_15\n",
        "http://www.nasa.gov/jpl/mro/spacecraft-completes-40000-mars-orbits/index.html#.VNkLkof8d78\n",
        "http://www.cuidadodesalud.gov/es/subscribe?utm_medium=social&utm_source=facebook&utm_campaign=deadline&utm_content=el_15_de_012615&linkId=11955763\n",
        "http://photos.state.gov/libraries/israel/76673/acs_pdf/Tax_Information_Booklet-Revised.pdf\n",
        "https://www.healthcare.gov/subscribe/?utm_medium=paid_social&utm_source=facebook&utm_campaign=2014_2015_aca_oe&utm_content=in_stream0204&linkId=12145744\n",
        "https://www.healthcare.gov/subscribe/?utm_medium=paid_social&utm_source=facebook&utm_campaign=2014_2015_aca_oe&utm_content=in_stream0206&linkId=12167551\n",
        "https://www.healthcare.gov/get-coverage2/?utm_medium=paid_social&utm_source=facebook&utm_campaign=2014_2015_aca_oe&utm_content=in_stream0129&linkId=12034168\n",
        "http://www.nsa.gov/\n",
        "http://www.hhs.gov/blog/2015/02/10/aca-closing-gap-when-it-comes-health-care.html?utm_campaign=021015_hhs_blog_bhm&utm_medium=email&utm_source=hhs_blog_updates&utm_content=021015_hhs_blog_bhm_titlelink\n",
        "http://www.nasa.gov/jpl/mars-rover-nearing-marathon-achievement/\n",
        "https://www.healthcare.gov/get-coverage2/?utm_medium=sms&utm_source=govdelivery&utm_campaign=0210noaccnoappsms&utm_content=02_10_15\n",
        "http://www.jber.af.mil/news/story.asp?id=123438360\n",
        "https://www.healthcare.gov/subscribe/?utm_medium=paid_social&utm_source=facebook&utm_campaign=20104_2015_womens_campaign&utm_content=in_20stream0209\n",
        "https://www.healthcare.gov/get-coverage2/?utm_medium=sms&utm_source=govdelivery&utm_campaign=0210noaccnoappsms&utm_content=02_10_15\n",
        "https://www.healthcare.gov/marketplace/global/en_US/registration?utm_medium=sms&utm_source=govdelivery&utm_campaign=0210applysms&utm_content=02_10_15\n",
        "https://www.healthcare.gov/get-coverage2/?utm_medium=sms&utm_source=govdelivery&utm_campaign=0210noaccnoappsms&utm_content=02_10_15\n",
        "https://www.healthcare.gov/get-coverage2/?utm_medium=sms&utm_source=govdelivery&utm_campaign=0210noaccnoappsms&utm_content=02_10_15\n",
        "https://www.healthcare.gov/get-coverage2/?utm_medium=sms&utm_source=govdelivery&utm_campaign=0210noaccnoappsms&utm_content=02_10_15\n",
        "http://photos.state.gov/libraries/israel/76673/acs_pdf/Tax_Information_Booklet-Revised.pdf\n",
        "http://www.nasa.gov/content/hubble-sees-a-smiling-lens/\n",
        "http://www.nsa.gov/\n",
        "http://passport.peacecorps.gov/2015/02/06/eat-pray-love-and-eat/\n",
        "http://www.nasa.gov/content/hubble-sees-a-smiling-lens\n",
        "http://www.hhs.gov/blog/2015/02/10/aca-closing-gap-when-it-comes-health-care.html?utm_campaign=021015_hhs_blog_bhm&utm_medium=email&utm_source=hhs_blog_updates&utm_content=021015_hhs_blog_bhm_readmorelink\n",
        "https://www.healthcare.gov/subscribe/?utm_medium=paid_social&utm_source=facebook&utm_campaign=20104_2015_womens_campaign&utm_content=in_20stream0209\n",
        "https://www.healthcare.gov/get-coverage2/?utm_medium=sms&utm_source=govdelivery&utm_campaign=0210noaccnoappsms&utm_content=02_10_15\n",
        "https://www.healthcare.gov/get-coverage2/?utm_medium=sms&utm_source=govdelivery&utm_campaign=0210noaccnoappsms&utm_content=02_10_15\n",
        "http://www.hhs.gov/blog/2015/02/10/aca-closing-gap-when-it-comes-health-care.html?utm_campaign=021015_hhs_blog_bhm&utm_medium=email&utm_source=hhs_blog_updates&utm_content=021015_hhs_blog_bhm_titlelink\n",
        "http://www.ncbi.nlm.nih.gov/m/pubmed/25605835/\n",
        "https://www.healthcare.gov/get-coverage2/?utm_medium=sms&utm_source=govdelivery&utm_campaign=0208noaccnoappsms&utm_content=02_08_15\n",
        "http://catalog.usmint.gov/2015-united-states-marshals-225th-anniversary-proof-silver-dollar-SR3.html?cm_mmc=fb-_-wallpost-_-se3-_-productlink\n",
        "https://nccih.nih.gov/research/statistics/NHIS/2012?nav=tw\n",
        "http://wdfw.wa.gov/fishing/shellfish/razorclams/current.html\n",
        "http://www.cms.gov/Medicare/Coordination-of-Benefits-and-Recovery/Coordination-of-Benefits-and-Recovery-Overview/Reimbursing-Medicare/Reimbursing-Medicare-.html\n",
        "http://www.nasa.gov/content/goddard/hubbles-little-sombrero\n",
        "http://www.nsa.gov/\n",
        "https://www.healthcare.gov/get-coverage2/?utm_medium=sms&utm_source=govdelivery&utm_campaign=0210noaccnoappsms&utm_content=02_10_15\n",
        "http://www.jpl.nasa.gov/news/news.php?feature=4479\n",
        "https://www.healthcare.gov/get-coverage2/?utm_medium=sms&utm_source=govdelivery&utm_campaign=0210noaccnoappsms&utm_content=02_10_15\n",
        "http://www.jpl.nasa.gov/news/news.php?feature=4479\n",
        "https://www.healthcare.gov/get-coverage2/?utm_medium=sms&utm_source=govdelivery&utm_campaign=0210noaccnoappsms&utm_content=02_10_15\n",
        "http://spanish.caracas.usembassy.gov/nosotros/recursos-humanos.html\n",
        "http://www.nimh.nih.gov/about/director/2015/immune-to-stress.shtml\n",
        "http://www.sec.gov/Archives/edgar/data/316793/000093247115004106/0000932471-15-004106-index.htm\n",
        "https://www.healthcare.gov/subscribe/?utm_medium=paid_social&utm_source=facebook&utm_campaign=20104_2015_womens_campaign&utm_content=in_20stream0209\n",
        "http://www.geostor.arkansas.gov/G6/Home.html?q=Parcel+DL\n",
        "http://fafsa.gov/deadlines.htm?WT.mc_id=2015FAFSAT020715A\n",
        "http://www.jber.af.mil/news/story.asp?id=123438360\n",
        "https://www.healthcare.gov/get-coverage2/?utm_medium=sms&utm_source=govdelivery&utm_campaign=0210noaccnoappsms&utm_content=02_10_15\n",
        "http://www.cuidadodesalud.gov/es/subscribe/?utm_source=impremedia&utm_medium=display&utm_campaign=deadline&utm_content=deadline2_a_300x250_121614\n",
        "http://www.sec.gov/Archives/edgar/data/102909/000093247115004106/0000932471-15-004106-index.htm\n",
        "https://www.healthcare.gov/see-plans/44026/details/67129OH0100001/?data=2953984e75bc2b2bebc81d5123fb72946ede51ca313e23ef2e878185567cc8405a9e57716661379a85c6f89702961236aaa143dd69e50ff07e3e5af31aeda6118a6fca830ef6f013fd596db04009235c5c220fea0aeebfbac35f5451c7d3ccbcbabc3de7877a37&source=bitly\n",
        "http://www.hhs.gov/blog/2015/02/10/aca-closing-gap-when-it-comes-health-care.html?utm_campaign=021015_hhs_blog_bhm&utm_medium=email&utm_source=hhs_blog_updates&utm_content=021015_hhs_blog_bhm_titlelink\n",
        "https://www.healthcare.gov/get-coverage2/?utm_medium=sms&utm_source=govdelivery&utm_campaign=0210noaccnoappsms&utm_content=02_10_15\n",
        "http://www.nasa.gov/jpl/mars-rover-nearing-marathon-achievement/\n",
        "https://www.healthcare.gov/subscribe/?utm_medium=paid_social&utm_source=facebook&utm_campaign=2014_2015_aca_oe&utm_content=in_stream0206&linkId=12167551\n",
        "http://www.jber.af.mil/news/story.asp?id=123438360\n",
        "https://www.healthcare.gov/get-coverage2/?utm_medium=sms&utm_source=govdelivery&utm_campaign=0210noaccnoappsms&utm_content=02_10_15\n",
        "http://www.nasa.gov/sites/default/files/thumbnails/image/15861603283_3579db3fc6_o.jpg\n",
        "https://www.healthcare.gov/get-coverage2/?utm_medium=sms&utm_source=govdelivery&utm_campaign=0210noaccnoappsms&utm_content=02_10_15\n",
        "https://www.healthcare.gov/get-coverage2/?utm_medium=sms&utm_source=govdelivery&utm_campaign=0208noaccnoappsms&utm_content=02_08_15\n",
        "http://www.cuidadodesalud.gov/es/subscribe/?utm_source=impremedia&utm_medium=display&utm_campaign=deadline&utm_content=deadline2_a_300x250_121614\n",
        "http://www.nationalservice.gov/programs/social-innovation-fund/sif-week-2015\n",
        "https://www.healthcare.gov/get-coverage2/?utm_medium=sms&utm_source=govdelivery&utm_campaign=0210noaccnoappsms&utm_content=02_10_15\n",
        "http://spanish.caracas.usembassy.gov/nosotros/recursos-humanos.html\n",
        "https://www.healthcare.gov/get-coverage2/?utm_medium=sms&utm_source=govdelivery&utm_campaign=0208noaccnoappsms&utm_content=02_08_15\n",
        "http://www.nasa.gov/jpl/mars-rover-nearing-marathon-achievement/\n",
        "https://www.healthcare.gov/get-coverage2/?utm_medium=sms&utm_source=govdelivery&utm_campaign=0210noaccnoappsms&utm_content=02_10_15\n",
        "http://www.nih.gov/news/health/feb2015/nhlbi-10.htm\n",
        "https://www.healthcare.gov/get-coverage2/?utm_medium=sms&utm_source=govdelivery&utm_campaign=0210noaccnoappsms&utm_content=02_10_15\n",
        "https://www.congress.gov/bill/114th-congress/senate-joint-resolution/1?q={\"search\":[\"s.j.+res+1\"]}\n",
        "https://www.healthcare.gov/subscribe/?utm_campaign=013015_hhs_yt_paid_7&utm_medium=social&utm_source=youtube&utm_content=013015_hhs_yt_paid_banner_7\n",
        "https://www.healthcare.gov/get-coverage2/?utm_medium=sms&utm_source=govdelivery&utm_campaign=0210noaccnoappsms&utm_content=02_10_15\n",
        "https://www.healthcare.gov/get-coverage2/?utm_medium=sms&utm_source=govdelivery&utm_campaign=0208noaccnoappsms&utm_content=02_08_15\n",
        "https://www.healthcare.gov/get-coverage2/?utm_medium=sms&utm_source=govdelivery&utm_campaign=0210noaccnoappsms&utm_content=02_10_15\n",
        "http://directorsblog.nih.gov/2014/12/11/cool-videos-know-when-to-fold-them/\n",
        "https://www.healthcare.gov/get-coverage2/?utm_medium=sms&utm_source=govdelivery&utm_campaign=0208noaccnoappsms&utm_content=02_08_15\n",
        "http://www.nationalmuseum.af.mil/factsheets/factsheet.asp?id=1026\n",
        "http://www.nsa.gov/\n",
        "http://www.hhs.gov/blog/2015/01/06/elenas-getcovered-story-pursuing-her-dream-farm.html?utm_campaign=012315_hhs_blog_yhwoa_elena&utm_medium=social&utm_source=acayhwoashare&utm_content=012315_hhs_blog_yhwoa_textlink_elena\n",
        "https://www.healthcare.gov/get-coverage2/?utm_medium=sms&utm_source=govdelivery&utm_campaign=0208noaccnoappsms&utm_content=02_08_15\n",
        "http://catalog.usmint.gov/2015-united-states-marshals-225th-anniversary-proof-silver-dollar-SR3.html?cm_mmc=fb-_-wallpost-_-se3-_-productlink\n",
        "http://www.hhs.gov/blog/2015/02/10/aca-closing-gap-when-it-comes-health-care.html?utm_campaign=021015_hhs_blog_bhm&utm_medium=email&utm_source=hhs_blog_updates&utm_content=021015_hhs_blog_bhm_titlelink\n",
        "https://www.healthcare.gov/get-coverage2/?utm_medium=sms&utm_source=govdelivery&utm_campaign=0210noaccnoappsms&utm_content=02_10_15\n",
        "http://www.cuidadodesalud.gov/es/subscribe/?utm_source=impremedia&utm_medium=display&utm_campaign=video&utm_content=JoanVideo_A_010615_15sec_v3\n",
        "https://fafsa.ed.gov/deadlines.htm?WT.mc_id=2015FAFSAF012715B\n",
        "https://www.healthcare.gov/get-coverage2/?utm_medium=sms&utm_source=govdelivery&utm_campaign=0210noaccnoappsms&utm_content=02_10_15\n",
        "https://www.healthcare.gov/get-coverage2/?utm_medium=sms&utm_source=govdelivery&utm_campaign=0210noaccnoappsms&utm_content=02_10_15\n",
        "http://www.peacecorps.gov/openings?utm_source=twitter_020915_021515&utm_medium=paid&utm_campaign=rro_mwro_tweet\n",
        "https://www.healthcare.gov/get-coverage2/?utm_medium=sms&utm_source=govdelivery&utm_campaign=0210noaccnoappsms&utm_content=02_10_15\n",
        "https://www.healthcare.gov/get-coverage2/?utm_medium=sms&utm_source=govdelivery&utm_campaign=0210noaccnoappsms&utm_content=02_10_15\n",
        "https://www.healthcare.gov/subscribe/?utm_medium=paid_social&utm_source=facebook&utm_campaign=2014_2015_aca_oe&utm_content=in_stream0206&linkId=12167551\n",
        "https://fafsa.ed.gov/deadlines.htm?WT.mc_id=2015FAFSAF012715B\n",
        "http://www.nasa.gov/content/goddard/higos-northwest-pacific-ocean/\n",
        "https://www.blm.gov/epl-front-office/eplanning/projectSummary.do?methodName=renderDefaultProjectSummary&projectId=42837\n",
        "http://www.hhs.gov/blog/2015/02/10/aca-closing-gap-when-it-comes-health-care.html?utm_campaign=021015_hhs_blog_bhm&utm_medium=email&utm_source=hhs_blog_updates&utm_content=021015_hhs_blog_bhm_titlelink\n",
        "http://www.nasa.gov/sites/default/files/thumbnails/image/10959945_352404438298334_3498583641010450205_o.jpg\n",
        "https://www.healthcare.gov/marketplace/global/en_US/registration?utm_medium=sms&utm_source=govdelivery&utm_campaign=0210applysms&utm_content=02_10_15\n",
        "https://www.healthcare.gov/?utm_campaign=010615_hhs_hcg_share&utm_medium=intrasite&utm_source=hhs_healthcare &utm_content=010615_hhs_hcg_share_billboardimage\n",
        "http://www.nimh.nih.gov/about/director/2015/immune-to-stress.shtml\n",
        "http://www.cuidadodesalud.gov/es/subscribe?utm_medium=social&utm_source=facebook&utm_campaign=testimonial&utm_content=en_cds.gov_me_012915\n",
        "https://www.healthcare.gov/see-plans/33331/details/57451FL0070006/?data=f0c3a2371eaa0002b30884133eaca441585c4e5252ec14863f83f1617164084320b1de53e9544b70dd8c97fc53e7c91050ea195717467988ec6fbe55f62e654edbec6bf9d56990790ba81d07519f520bc876bc00f58957d0fd70ec1f7947ab36b88c3621262bbc4b11c518e8f75193f376e1b74a4ed0&source=bitly\n",
        "https://www.healthcare.gov/subscribe/?utm_campaign=013015_hhs_yt_paid_5&utm_medium=social&utm_source=youtube&utm_content=013015_hhs_yt_paid_banner_5\n",
        "https://www.healthcare.gov/subscribe/?utm_medium=paid_social&utm_source=facebook&utm_campaign=2014_2015_aca_oe&utm_content=in_stream0209&linkId=12236996\n",
        "http://www.stripes.com/news/study-examines-impact-of-service-dogs-on-veterans-with-ptsd-1.327058\n",
        "http://www.hhs.gov/blog/2015/02/10/aca-closing-gap-when-it-comes-health-care.html?utm_campaign=021015_hhs_blog_bhm&utm_medium=email&utm_source=hhs_blog_updates&utm_content=021015_hhs_blog_bhm_titlelink\n",
        "http://www.cuidadodesalud.gov/es/subscribe/?utm_source=impremedia&utm_medium=display&utm_campaign=video&utm_content=JoanVideo_A_010615_15sec_v3\n",
        "http://www.speaker.gov/press-release/speaker-boehner-able-act-simple-powerful-idea\n"
       ]
      }
     ],
     "prompt_number": 152
    },
    {
     "cell_type": "heading",
     "level": 4,
     "metadata": {},
     "source": [
      "Count and Print time zones in the records - using Python Package"
     ]
    },
    {
     "cell_type": "code",
     "collapsed": false,
     "input": [
      "from collections import Counter\n",
      "\n",
      "time_zones = [rec['tz'] for rec in recordx if 'tz' in rec]\n",
      "\n",
      "time_zones[:10]\n",
      "\n",
      "# count the time zones present in the record and print according to DESC\n",
      "counts = Counter(time_zones)\n",
      "\n",
      "counts.most_common()"
     ],
     "language": "python",
     "metadata": {},
     "outputs": [
      {
       "metadata": {},
       "output_type": "pyout",
       "prompt_number": 158,
       "text": [
        "[('America/New_York', 292),\n",
        " ('America/Chicago', 160),\n",
        " ('America/Los_Angeles', 83),\n",
        " ('America/Denver', 21),\n",
        " ('America/Caracas', 12),\n",
        " ('Europe/Berlin', 10),\n",
        " ('Europe/London', 9),\n",
        " ('America/Phoenix', 8),\n",
        " ('Asia/Tokyo', 6),\n",
        " ('Europe/Paris', 6),\n",
        " ('Europe/Brussels', 6),\n",
        " ('Asia/Dubai', 5),\n",
        " ('America/Indianapolis', 5),\n",
        " ('Europe/Rome', 4),\n",
        " ('Asia/Calcutta', 4),\n",
        " ('Europe/Amsterdam', 4),\n",
        " ('America/Edmonton', 3),\n",
        " ('America/Bogota', 3),\n",
        " ('Europe/Copenhagen', 3),\n",
        " ('America/Mexico_City', 3),\n",
        " ('America/Rainy_River', 3),\n",
        " ('Asia/Jerusalem', 3),\n",
        " ('America/Sao_Paulo', 3),\n",
        " ('Europe/Warsaw', 2),\n",
        " ('Asia/Istanbul', 2),\n",
        " ('Asia/Bangkok', 2),\n",
        " ('Asia/Seoul', 2),\n",
        " ('America/Montreal', 2),\n",
        " ('Australia/NSW', 2),\n",
        " ('Europe/Stockholm', 1),\n",
        " ('Australia/Queensland', 1),\n",
        " ('Africa/Tunis', 1),\n",
        " ('Europe/Malta', 1),\n",
        " ('Asia/Irkutsk', 1),\n",
        " ('Asia/Tehran', 1),\n",
        " ('Pacific/Honolulu', 1),\n",
        " ('America/Mazatlan', 1),\n",
        " ('Europe/Helsinki', 1),\n",
        " ('America/Winnipeg', 1),\n",
        " ('Europe/Vilnius', 1),\n",
        " ('Asia/Novosibirsk', 1),\n",
        " ('America/Argentina/Cordoba', 1),\n",
        " ('Africa/Mogadishu', 1),\n",
        " ('Europe/Bratislava', 1),\n",
        " ('Asia/Singapore', 1),\n",
        " ('Europe/Dublin', 1),\n",
        " ('Europe/Athens', 1),\n",
        " ('America/Regina', 1),\n",
        " ('America/Vancouver', 1),\n",
        " ('America/Lima', 1),\n",
        " ('Europe/Oslo', 1),\n",
        " ('Africa/Ceuta', 1),\n",
        " ('America/Tijuana', 1)]"
       ]
      }
     ],
     "prompt_number": 158
    },
    {
     "cell_type": "heading",
     "level": 4,
     "metadata": {},
     "source": [
      "Count and Print time zones in the records - using PANDAS Package"
     ]
    },
    {
     "cell_type": "code",
     "collapsed": false,
     "input": [
      "from pandas import DataFrame, Series\n",
      "import pandas as np\n",
      "\n",
      "frame = DataFrame(recordx)\n",
      "pd_count = frame['tz']\n",
      "\n",
      "\n",
      "print pd_count.value_counts()\n",
      "\n",
      "#frame.count()"
     ],
     "language": "python",
     "metadata": {},
     "outputs": [
      {
       "output_type": "stream",
       "stream": "stdout",
       "text": [
        "America/New_York             292\n",
        "America/Chicago              160\n",
        "America/Los_Angeles           83\n",
        "America/Denver                21\n",
        "America/Caracas               12\n",
        "Europe/Berlin                 10\n",
        "Europe/London                  9\n",
        "America/Phoenix                8\n",
        "Asia/Tokyo                     6\n",
        "Europe/Paris                   6\n",
        "Europe/Brussels                6\n",
        "Asia/Dubai                     5\n",
        "America/Indianapolis           5\n",
        "Europe/Rome                    4\n",
        "Asia/Calcutta                  4\n",
        "Europe/Amsterdam               4\n",
        "America/Bogota                 3\n",
        "America/Edmonton               3\n",
        "Europe/Copenhagen              3\n",
        "America/Mexico_City            3\n",
        "Asia/Jerusalem                 3\n",
        "America/Sao_Paulo              3\n",
        "America/Rainy_River            3\n",
        "Europe/Warsaw                  2\n",
        "Asia/Seoul                     2\n",
        "America/Montreal               2\n",
        "Australia/NSW                  2\n",
        "Asia/Istanbul                  2\n",
        "Asia/Bangkok                   2\n",
        "America/Tijuana                1\n",
        "Asia/Singapore                 1\n",
        "America/Argentina/Cordoba      1\n",
        "Europe/Athens                  1\n",
        "Africa/Mogadishu               1\n",
        "Europe/Malta                   1\n",
        "Europe/Stockholm               1\n",
        "America/Vancouver              1\n",
        "Australia/Queensland           1\n",
        "America/Regina                 1\n",
        "Asia/Irkutsk                   1\n",
        "Europe/Dublin                  1\n",
        "Africa/Tunis                   1\n",
        "Europe/Bratislava              1\n",
        "Europe/Oslo                    1\n",
        "America/Mazatlan               1\n",
        "America/Lima                   1\n",
        "Pacific/Honolulu               1\n",
        "Asia/Novosibirsk               1\n",
        "Europe/Helsinki                1\n",
        "America/Winnipeg               1\n",
        "Asia/Tehran                    1\n",
        "Europe/Vilnius                 1\n",
        "Africa/Ceuta                   1\n",
        "Length: 53, dtype: int64\n"
       ]
      }
     ],
     "prompt_number": 159
    },
    {
     "cell_type": "heading",
     "level": 3,
     "metadata": {},
     "source": [
      "Data Munging and Plotting"
     ]
    },
    {
     "cell_type": "markdown",
     "metadata": {},
     "source": [
      "We do some data munging to fill in substitute \"Mising\" to replace the mising values and unknown (empty strings) can be replaced by boolean array indexing."
     ]
    },
    {
     "cell_type": "code",
     "collapsed": false,
     "input": [
      "tz_clean = frame['tz'].fillna('Missing')\n",
      "tz_clean[tz_clean == ''] = 'Unknown'\n",
      "\n",
      "tz_counts = tz_clean[:30].value_counts()\n",
      "\n",
      "print tz_counts\n",
      "\n",
      "tz_counts[:10].plot(kind='barh', rot=0)\n"
     ],
     "language": "python",
     "metadata": {},
     "outputs": [
      {
       "output_type": "stream",
       "stream": "stdout",
       "text": [
        "America/New_York       11\n",
        "America/Chicago         7\n",
        "America/Los_Angeles     3\n",
        "America/Denver          3\n",
        "Missing                 2\n",
        "Asia/Jerusalem          1\n",
        "Europe/Rome             1\n",
        "America/Edmonton        1\n",
        "Europe/Berlin           1\n",
        "dtype: int64\n"
       ]
      },
      {
       "metadata": {},
       "output_type": "pyout",
       "prompt_number": 167,
       "text": [
        "<matplotlib.axes._subplots.AxesSubplot at 0xddddeb8>"
       ]
      },
      {
       "metadata": {},
       "output_type": "display_data",
       "png": "[encoded data removed]",
       "text": [
        "<matplotlib.figure.Figure at 0xdf0d320>"
       ]
      }
     ],
     "prompt_number": 167
    },
    {
     "cell_type": "heading",
     "level": 4,
     "metadata": {},
     "source": [
      "Now we try to extract the operating systems and group them into \"Windows\" or \"Non-Windows\" then plot the result on a stacked bar-graph"
     ]
    },
    {
     "cell_type": "code",
     "collapsed": false,
     "input": [
      "cframe = frame[frame.a.notnull()]\n",
      "\n",
      "operating_systems = np.where(cframe['a'].str.contains('Windows'), \n",
      "                             'Windows','Not Windows')\n",
      "\n",
      "# Print out the groupings\n",
      "#print operating_systems[:6]\n",
      "by_tz_os = cframe.groupby(['tz', operating_systems])\n",
      "\n",
      "\n",
      "# Calssify the grouping by time zone and print\n",
      "agg_counts = by_tz_os.size().unstack().fillna(0)\n",
      "print agg_counts[:10]\n",
      "\n",
      "# We select the top overall time zones.\n",
      "indexer = agg_counts.sum(1).argsort()\n",
      "\n",
      "count_subset = agg_counts.take(indexer)[-10:]\n",
      "print;  print count_subset\n",
      "count_subset.plot(kind='barh', stacked=True)\n",
      "\n",
      "normed_subset = count_subset.div(count_subset.sum(1), axis=0)\n",
      "\n",
      "normed_subset.plot(kind='barh', stacked=True)"
     ],
     "language": "python",
     "metadata": {},
     "outputs": [
      {
       "output_type": "stream",
       "stream": "stdout",
       "text": [
        "                           Not Windows  Windows\n",
        "tz                                             \n",
        "Africa/Ceuta                         1        0\n",
        "Africa/Mogadishu                     0        1\n",
        "Africa/Tunis                         0        1\n",
        "America/Argentina/Cordoba            0        1\n",
        "America/Bogota                       3        0\n",
        "America/Caracas                     12        0\n",
        "America/Chicago                    112       48\n",
        "America/Denver                      12        9\n",
        "America/Edmonton                     2        1\n",
        "America/Indianapolis                 3        2\n",
        "\n",
        "                     Not Windows  Windows\n",
        "tz                                       \n",
        "Europe/Paris                   4        2\n",
        "Europe/Brussels                5        1\n",
        "America/Phoenix                4        4\n",
        "Europe/London                  5        4\n",
        "Europe/Berlin                  4        6\n",
        "America/Caracas               12        0\n",
        "America/Denver                12        9\n",
        "America/Los_Angeles           53       30\n",
        "America/Chicago              112       48\n",
        "America/New_York             197       95\n"
       ]
      },
      {
       "metadata": {},
       "output_type": "pyout",
       "prompt_number": 218,
       "text": [
        "<matplotlib.axes._subplots.AxesSubplot at 0xf01ad30>"
       ]
      },
      {
       "metadata": {},
       "output_type": "display_data",
       "png": "[encoded data removed]",
       "text": [
        "<matplotlib.figure.Figure at 0xe87dc88>"
       ]
      },
      {
       "metadata": {},
       "output_type": "display_data",
       "png": "[encoded data removed]",
       "text": [
        "<matplotlib.figure.Figure at 0xef2db00>"
       ]
      }
     ],
     "prompt_number": 218
    },
    {
     "cell_type": "code",
     "collapsed": false,
     "input": [],
     "language": "python",
     "metadata": {},
     "outputs": []
    }
   ],
   "metadata": {}
  }
 ]
}